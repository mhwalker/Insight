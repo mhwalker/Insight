{
 "cells": [
  {
   "cell_type": "code",
   "execution_count": 1,
   "metadata": {
    "collapsed": true
   },
   "outputs": [],
   "source": [
    "from sklearn.cluster import DBSCAN,Birch\n",
    "import numpy as np\n",
    "import pickle"
   ]
  },
  {
   "cell_type": "code",
   "execution_count": 2,
   "metadata": {
    "collapsed": false
   },
   "outputs": [],
   "source": [
    "with open('stanford_dog_cnn_inception.pickle', 'rb') as handle:\n",
    "    b = pickle.load(handle)\n",
    "coefficients = np.array(b.values())"
   ]
  },
  {
   "cell_type": "code",
   "execution_count": 5,
   "metadata": {
    "collapsed": false
   },
   "outputs": [
    {
     "name": "stdout",
     "output_type": "stream",
     "text": [
      "(7166, 120)\n",
      "0.2 234\n",
      "outliers: 758\n",
      "0.22 175\n",
      "outliers: 515\n",
      "0.24 109\n",
      "outliers: 359\n",
      "0.26 61\n",
      "outliers: 223\n",
      "0.28 36\n",
      "outliers: 144\n",
      "0.3 23\n",
      "outliers: 91\n",
      "0.32 16\n",
      "outliers: 62\n",
      "0.34 11\n",
      "outliers: 38\n"
     ]
    }
   ],
   "source": [
    "print coefficients.shape\n",
    "for x in np.arange(0.2,0.36,0.02):\n",
    "\tdb = DBSCAN(eps=x, min_samples=2).fit(coefficients)\n",
    "\tcore_samples_mask = np.zeros_like(db.labels_, dtype=bool)\n",
    "\tcore_samples_mask[db.core_sample_indices_] = True\n",
    "\tlabels = db.labels_\n",
    "\t#print set(labels)\n",
    "\t#Number of clusters in labels, ignoring noise if present.\n",
    "\tn_clusters_ = len(set(labels)) - (1 if -1 in labels else 0)\n",
    "\n",
    "# \tprint('eps: %0.2f Estimated number of clusters: %d Silhouette Coefficient: %0.3f' % (x,n_clusters_,metrics.silhouette_score(np_scaled, labels)))\n",
    "# \tprint(\"Silhouette Coefficient: %0.3f\" % metrics.silhouette_score(np_scaled, labels))\n",
    "\n",
    "\tclusters = [coefficients[labels == i] for i in xrange(n_clusters_)]\n",
    "\tprint x,len(clusters)\n",
    "\n",
    "\t#for i,cluster in enumerate(clusters):\n",
    "\t#\tprint \"cluster:\",i,len(cluster)\n",
    "\n",
    "\toutliers =  coefficients[labels == -1]\n",
    "\tprint \"outliers:\",len(outliers)\n"
   ]
  },
  {
   "cell_type": "code",
   "execution_count": null,
   "metadata": {
    "collapsed": true
   },
   "outputs": [],
   "source": []
  }
 ],
 "metadata": {
  "kernelspec": {
   "display_name": "Python 2",
   "language": "python",
   "name": "python2"
  },
  "language_info": {
   "codemirror_mode": {
    "name": "ipython",
    "version": 2
   },
   "file_extension": ".py",
   "mimetype": "text/x-python",
   "name": "python",
   "nbconvert_exporter": "python",
   "pygments_lexer": "ipython2",
   "version": "2.7.10"
  }
 },
 "nbformat": 4,
 "nbformat_minor": 2
}
