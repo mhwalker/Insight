{
 "cells": [
  {
   "cell_type": "code",
   "execution_count": 1,
   "metadata": {
    "collapsed": false
   },
   "outputs": [
    {
     "name": "stderr",
     "output_type": "stream",
     "text": [
      "Using Theano backend.\n",
      "Using gpu device 0: GeForce GT 750M (CNMeM is enabled with initial size: 70.0% of memory, cuDNN 5103)\n",
      "/Library/Python/2.7/site-packages/theano/sandbox/cuda/__init__.py:600: UserWarning: Your cuDNN version is more recent than the one Theano officially supports. If you see any problems, try updating Theano or downgrading cuDNN to version 5.\n",
      "  warnings.warn(warn)\n"
     ]
    }
   ],
   "source": [
    "import numpy as np\n",
    "np.random.seed(2671)  # for reproducibility\n",
    "\n",
    "import copy\n",
    "import json\n",
    "import cv2\n",
    "from scipy.misc import imread\n",
    "\n",
    "from keras.models import Sequential, load_model\n",
    "from keras import backend as K\n",
    "import matplotlib.pyplot as plt\n",
    "import sys\n",
    "\n",
    "import pickle"
   ]
  },
  {
   "cell_type": "code",
   "execution_count": 2,
   "metadata": {
    "collapsed": false
   },
   "outputs": [],
   "source": [
    "photo_ids = []\n",
    "input_photos = []\n",
    "with open(\"small_dog_data.json\") as data_file:    \n",
    "    dog_data = json.load(data_file)\n",
    "for k,v in dog_data.iteritems():\n",
    "    nBreeds = float(len(v[\"breeds\"]))\n",
    "    if len(v[\"breeds\"]) > 1: continue\n",
    "    breed = v[\"breeds\"][0]\n",
    "    photos = v[\"photos\"]\n",
    "    for photo in photos:\n",
    "        imagename = \"cutPetFinder/\"+k+\"_\"+photo[\"id\"]+\".jpg\"\n",
    "        img = cv2.imread(imagename)\n",
    "        if img is None: continue\n",
    "        img = cv2.resize(img, (299,299), cv2.INTER_LINEAR)\n",
    "        photo_ids.append(k+\"_\"+photo[\"id\"])\n",
    "        input_photos.append(img)\n",
    "        #break"
   ]
  },
  {
   "cell_type": "code",
   "execution_count": 3,
   "metadata": {
    "collapsed": false
   },
   "outputs": [
    {
     "name": "stdout",
     "output_type": "stream",
     "text": [
      "3301\n",
      "(3301, 299, 299, 3)\n",
      "(3, 299, 299)\n"
     ]
    }
   ],
   "source": [
    "print len(input_photos)\n",
    "batch_size = 10\n",
    "nb_epoch = 5\n",
    "\n",
    "train = np.array(input_photos)\n",
    "\n",
    "print train.shape\n",
    "\n",
    "nToUse = len(train)\n",
    "testFraction = 1.0/3.0\n",
    "nTest = int(testFraction*nToUse)\n",
    "\n",
    "X_test = train[:]\n",
    "\n",
    "# input image dimensions\n",
    "img_rows, img_cols = X_test.shape[1], X_test.shape[2]\n",
    "\n",
    "if K.image_dim_ordering() == 'th':\n",
    "    X_test = np.swapaxes(X_test,1,3)\n",
    "    X_test = np.swapaxes(X_test,2,3)\n",
    "    input_shape = (X_test.shape[1], img_rows, img_cols)\n",
    "else:\n",
    "\tinput_shape = (img_rows, img_cols, X_test.shape[3])\n",
    "\n",
    "print input_shape\n",
    "\n",
    "X_test = X_test.astype('float32')\n",
    "X_test /= 255"
   ]
  },
  {
   "cell_type": "code",
   "execution_count": 8,
   "metadata": {
    "collapsed": true
   },
   "outputs": [],
   "source": [
    "model = load_model(\"dog_cnn_inception.1.10.keras\")\n",
    "#model = load_model(\"dog_cnn_simple.keras\")"
   ]
  },
  {
   "cell_type": "code",
   "execution_count": 9,
   "metadata": {
    "collapsed": false
   },
   "outputs": [],
   "source": [
    "results = model.predict(X_test)"
   ]
  },
  {
   "cell_type": "code",
   "execution_count": 10,
   "metadata": {
    "collapsed": true
   },
   "outputs": [],
   "source": [
    "output = dict(zip(photo_ids,results))"
   ]
  },
  {
   "cell_type": "code",
   "execution_count": 11,
   "metadata": {
    "collapsed": true
   },
   "outputs": [],
   "source": [
    "with open('petfinderPurebred_dog_cnn_inception_all.pickle', 'wb') as handle:\n",
    "    pickle.dump(output, handle, protocol=pickle.HIGHEST_PROTOCOL)\n",
    "#with open('petfinderPurebred_dog_cnn_simple_all.pickle', 'wb') as handle:\n",
    "#    pickle.dump(output, handle, protocol=pickle.HIGHEST_PROTOCOL)"
   ]
  },
  {
   "cell_type": "code",
   "execution_count": 8,
   "metadata": {
    "collapsed": false
   },
   "outputs": [
    {
     "name": "stdout",
     "output_type": "stream",
     "text": [
      "(3301, 120)\n"
     ]
    }
   ],
   "source": [
    "print results.shape"
   ]
  },
  {
   "cell_type": "code",
   "execution_count": null,
   "metadata": {
    "collapsed": true
   },
   "outputs": [],
   "source": []
  }
 ],
 "metadata": {
  "kernelspec": {
   "display_name": "Python 2",
   "language": "python",
   "name": "python2"
  },
  "language_info": {
   "codemirror_mode": {
    "name": "ipython",
    "version": 2
   },
   "file_extension": ".py",
   "mimetype": "text/x-python",
   "name": "python",
   "nbconvert_exporter": "python",
   "pygments_lexer": "ipython2",
   "version": "2.7.10"
  }
 },
 "nbformat": 4,
 "nbformat_minor": 2
}
