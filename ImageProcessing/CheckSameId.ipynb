{
 "cells": [
  {
   "cell_type": "code",
   "execution_count": 1,
   "metadata": {
    "collapsed": true
   },
   "outputs": [],
   "source": [
    "import pickle\n",
    "from sklearn.metrics.pairwise import cosine_similarity\n",
    "import distance_helpers\n",
    "import numpy as np\n",
    "import json\n",
    "import cv2\n",
    "import operator"
   ]
  },
  {
   "cell_type": "code",
   "execution_count": 2,
   "metadata": {
    "collapsed": true
   },
   "outputs": [],
   "source": [
    "inputfiles = ['petfinderPurebred_pca_11063_100_all.pickle','petfinderPurebred_dog_cnn_simple_all.pickle','petfinderPurebred_dog_cnn_inception_all.pickle']"
   ]
  },
  {
   "cell_type": "code",
   "execution_count": 3,
   "metadata": {
    "collapsed": false
   },
   "outputs": [],
   "source": [
    "photo_ids = []\n",
    "photo_indices = []\n",
    "breedList = dict()\n",
    "photoId2Index = dict()\n",
    "with open(\"small_dog_data.json\") as data_file:    \n",
    "    dog_data = json.load(data_file)\n",
    "counter = 0\n",
    "for k,v in dog_data.iteritems():\n",
    "    nBreeds = float(len(v[\"breeds\"]))\n",
    "    if len(v[\"breeds\"]) > 1: continue\n",
    "    breed = v[\"breeds\"][0]\n",
    "    photos = v[\"photos\"]\n",
    "    #if len(photos) > 1: print k\n",
    "    for photo in photos:\n",
    "        imagename = \"cutPetFinder/\"+k+\"_\"+photo[\"id\"]+\".jpg\"\n",
    "        img = cv2.imread(imagename)\n",
    "        if img is None: continue\n",
    "        photo_ids.append(int(k))\n",
    "        photo_indices.append(int(photo[\"id\"]))\n",
    "        photoId2Index[k] = counter\n",
    "        if not breedList.has_key(breed): breedList[breed] = []\n",
    "        breedList[breed].append(counter)\n",
    "        counter += 1\n",
    "        #break"
   ]
  },
  {
   "cell_type": "code",
   "execution_count": 4,
   "metadata": {
    "collapsed": false
   },
   "outputs": [
    {
     "name": "stdout",
     "output_type": "stream",
     "text": [
      "3301 111 3301\n"
     ]
    }
   ],
   "source": [
    "print len(photo_ids),len(breedList),len(photo_indices)"
   ]
  },
  {
   "cell_type": "code",
   "execution_count": 13,
   "metadata": {
    "collapsed": false
   },
   "outputs": [
    {
     "name": "stdout",
     "output_type": "stream",
     "text": [
      "set([1, 2, 3])\n",
      "petfinderPurebred_pca_11063_100_all.pickle (3301, 100) 0.0953939173752\n",
      "0\n",
      "petfinderPurebred_dog_cnn_simple_all.pickle (3301, 120) 0.00910911050256\n",
      "1\n",
      "petfinderPurebred_dog_cnn_inception_all.pickle (3301, 120) 0.045489572719\n",
      "2\n"
     ]
    }
   ],
   "source": [
    "sameDistances = [0.0 for i in range(len(inputfiles))]\n",
    "sumBreedDistances = [0.0 for i in range(len(inputfiles))]\n",
    "nGood1 = [0.0 for i in range(len(inputfiles))]\n",
    "nGood5 = [0.0 for i in range(len(inputfiles))]\n",
    "\n",
    "print set(photo_indices)\n",
    "for i,inputfilename in enumerate(inputfiles):\n",
    "    with open(inputfilename, 'rb') as handle:\n",
    "        b = pickle.load(handle)\n",
    "        counter = 0\n",
    "        coefficients = np.array(b.values())\n",
    "        similarities = distance_helpers.getDistances(coefficients)\n",
    "        avgForAll = distance_helpers.getAvgDistance(similarities)\n",
    "        print inputfilename,coefficients.shape,avgForAll\n",
    "        print i\n",
    "        for j,p_id in enumerate(photo_ids):\n",
    "            #if photo_ids[j-1] == p_id: print j,photo_indices[j],photo_indices[j-1],p_id,photo_ids[j-1]\n",
    "            if photo_indices[j] < 2: continue\n",
    "            if p_id != photo_ids[j-1]: continue\n",
    "            idx = np.array([j-1,j])\n",
    "            slimSimilarities = similarities[idx[:, None], idx]\n",
    "            sameAvg = distance_helpers.getAvgDistance(slimSimilarities)\n",
    "            sameDistances[i] += sameAvg / avgForAll\n",
    "\n",
    "            thisSimilarities = similarities[j,:]\n",
    "            sorted_x = sorted(zip(range(len(thisSimilarities)),thisSimilarities), key=operator.itemgetter(1),reverse=True)\n",
    "            sorted_x5 = sorted_x[1:6]\n",
    "            ids5 = [photo_ids[ii] for ii,jjj in sorted_x5]\n",
    "            if p_id in ids5: \n",
    "                nGood5[i] += 1\n",
    "                #print p_id, ids5\n",
    "            sorted_x1 = sorted_x[1]\n",
    "            #print sorted_x1\n",
    "            if p_id == photo_ids[sorted_x1[0]]: nGood1[i] += 1\n",
    "            counter += 1\n",
    "        sameDistances[i] /= float(counter)\n",
    "        nGood1[i] /= float(counter)\n",
    "        nGood5[i] /= float(counter)"
   ]
  },
  {
   "cell_type": "code",
   "execution_count": 14,
   "metadata": {
    "collapsed": false
   },
   "outputs": [
    {
     "name": "stdout",
     "output_type": "stream",
     "text": [
      "[1.1010955643403244, 1.5892520615025167, 2.3807266185730307]\n",
      "[0.03125, 0.04318181818181818, 0.028409090909090908]\n",
      "[0.04375, 0.10965909090909091, 0.06534090909090909]\n"
     ]
    }
   ],
   "source": [
    "print sameDistances\n",
    "print nGood1\n",
    "print nGood5"
   ]
  },
  {
   "cell_type": "code",
   "execution_count": null,
   "metadata": {
    "collapsed": true
   },
   "outputs": [],
   "source": []
  }
 ],
 "metadata": {
  "kernelspec": {
   "display_name": "Python 2",
   "language": "python",
   "name": "python2"
  },
  "language_info": {
   "codemirror_mode": {
    "name": "ipython",
    "version": 2
   },
   "file_extension": ".py",
   "mimetype": "text/x-python",
   "name": "python",
   "nbconvert_exporter": "python",
   "pygments_lexer": "ipython2",
   "version": "2.7.10"
  }
 },
 "nbformat": 4,
 "nbformat_minor": 2
}
