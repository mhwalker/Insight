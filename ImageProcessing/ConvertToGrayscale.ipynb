{
 "cells": [
  {
   "cell_type": "code",
   "execution_count": 1,
   "metadata": {
    "collapsed": true
   },
   "outputs": [],
   "source": [
    "import cv2"
   ]
  },
  {
   "cell_type": "code",
   "execution_count": 2,
   "metadata": {
    "collapsed": true
   },
   "outputs": [],
   "source": [
    "#posfilename = \"positives_mod10.txt\"\n",
    "posfilename = \"positives.txt\"\n",
    "inputdirname = \"CroppedDogs/\"\n",
    "outputdirname = \"./GrayScalePositive/\""
   ]
  },
  {
   "cell_type": "code",
   "execution_count": 3,
   "metadata": {
    "collapsed": false
   },
   "outputs": [],
   "source": [
    "posfile = open(posfilename,'r')\n",
    "for line in posfile.readlines():\n",
    "    infile = line.strip()\n",
    "    img = cv2.imread(infile)\n",
    "    gray = cv2.cvtColor(img, cv2.COLOR_BGR2GRAY)\n",
    "    outfile = infile.replace(inputdirname,outputdirname)\n",
    "    cv2.imwrite(outfile,gray)"
   ]
  },
  {
   "cell_type": "code",
   "execution_count": 16,
   "metadata": {
    "collapsed": true
   },
   "outputs": [],
   "source": [
    "negfilename = \"negatives_mod5.txt\"\n",
    "inputdirname = \"testSet_resize/\"\n",
    "outputdirname = \"./GrayScaleNegative/\""
   ]
  },
  {
   "cell_type": "code",
   "execution_count": 18,
   "metadata": {
    "collapsed": false
   },
   "outputs": [],
   "source": [
    "negfile = open(negfilename,'r')\n",
    "for line in negfile.readlines():\n",
    "    infile = line.strip()\n",
    "    img = cv2.imread(infile)\n",
    "    gray = cv2.cvtColor(img, cv2.COLOR_BGR2GRAY)\n",
    "    outfile = infile.replace(inputdirname,outputdirname)\n",
    "    cv2.imwrite(outfile,gray)"
   ]
  },
  {
   "cell_type": "code",
   "execution_count": null,
   "metadata": {
    "collapsed": true
   },
   "outputs": [],
   "source": []
  }
 ],
 "metadata": {
  "kernelspec": {
   "display_name": "Python 2",
   "language": "python",
   "name": "python2"
  },
  "language_info": {
   "codemirror_mode": {
    "name": "ipython",
    "version": 2
   },
   "file_extension": ".py",
   "mimetype": "text/x-python",
   "name": "python",
   "nbconvert_exporter": "python",
   "pygments_lexer": "ipython2",
   "version": "2.7.10"
  }
 },
 "nbformat": 4,
 "nbformat_minor": 2
}
