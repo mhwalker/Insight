{
 "cells": [
  {
   "cell_type": "code",
   "execution_count": 7,
   "metadata": {
    "collapsed": false
   },
   "outputs": [],
   "source": [
    "import csv\n",
    "import cv2\n",
    "import json\n",
    "from subprocess import call,check_output\n",
    "import hashlib\n",
    "import cut_helper"
   ]
  },
  {
   "cell_type": "code",
   "execution_count": 8,
   "metadata": {
    "collapsed": false
   },
   "outputs": [],
   "source": [
    "basecommand=[\"darknet\",\"detect\",\"./yolo.cfg\",\"./yolo.weights\"]\n",
    "m = hashlib.md5()"
   ]
  },
  {
   "cell_type": "code",
   "execution_count": 9,
   "metadata": {
    "collapsed": false
   },
   "outputs": [],
   "source": [
    "with open(\"small_dog_data.json\") as data_file:    \n",
    "    dog_data = json.load(data_file)\n",
    "for k,v in dog_data.iteritems():\n",
    "    nBreeds = float(len(v[\"breeds\"]))\n",
    "    if len(v[\"breeds\"]) < 2: continue\n",
    "    breed = v[\"breeds\"][0]\n",
    "    photos = v[\"photos\"]\n",
    "    for photo in photos:\n",
    "        command = basecommand[:]\n",
    "        imagename = \"petfinderImages/\"+k+\"_\"+photo[\"id\"]+\".jpg\"\n",
    "        m.update(imagename)\n",
    "        image_id = m.hexdigest()\n",
    "        command.append(imagename)\n",
    "        command.append(\"-prefix\")\n",
    "        command.append(\"./tmp/\"+image_id)\n",
    "        output = check_output(command)\n",
    "        csvfilename = \"./tmp/\"+image_id+\".csv\"\n",
    "        small_image = cut_helper.cut_image(csvfilename,imagename)\n",
    "        ofname = imagename.replace(\"petfinderImages\",\"cutPetFinder\")\n",
    "        cv2.imwrite(ofname,small_image)\n",
    "        #print output\n",
    "    #break"
   ]
  },
  {
   "cell_type": "code",
   "execution_count": null,
   "metadata": {
    "collapsed": true
   },
   "outputs": [],
   "source": []
  }
 ],
 "metadata": {
  "kernelspec": {
   "display_name": "Python 2",
   "language": "python",
   "name": "python2"
  },
  "language_info": {
   "codemirror_mode": {
    "name": "ipython",
    "version": 2
   },
   "file_extension": ".py",
   "mimetype": "text/x-python",
   "name": "python",
   "nbconvert_exporter": "python",
   "pygments_lexer": "ipython2",
   "version": "2.7.10"
  }
 },
 "nbformat": 4,
 "nbformat_minor": 2
}
