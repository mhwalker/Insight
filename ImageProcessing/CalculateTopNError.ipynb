{
 "cells": [
  {
   "cell_type": "code",
   "execution_count": 1,
   "metadata": {
    "collapsed": false
   },
   "outputs": [
    {
     "name": "stderr",
     "output_type": "stream",
     "text": [
      "Using Theano backend.\n",
      "Using gpu device 0: GeForce GT 750M (CNMeM is enabled with initial size: 75.0% of memory, cuDNN 5103)\n",
      "/Library/Python/2.7/site-packages/theano/sandbox/cuda/__init__.py:600: UserWarning: Your cuDNN version is more recent than the one Theano officially supports. If you see any problems, try updating Theano or downgrading cuDNN to version 5.\n",
      "  warnings.warn(warn)\n"
     ]
    }
   ],
   "source": [
    "import numpy as np\n",
    "np.random.seed(2671)  # for reproducibility\n",
    "\n",
    "import copy\n",
    "import json\n",
    "import cv2\n",
    "\n",
    "from keras.models import load_model\n",
    "from keras.utils import np_utils\n",
    "from keras import backend as K\n",
    "import sys\n",
    "import operator"
   ]
  },
  {
   "cell_type": "code",
   "execution_count": 2,
   "metadata": {
    "collapsed": true
   },
   "outputs": [],
   "source": [
    "catmapfilename='breed_map.list'\n",
    "catmapfile = open(catmapfilename,'r')\n",
    "categoryMap = dict()\n",
    "for line in catmapfile.readlines():\n",
    "    ls = line.split()\n",
    "    category = ls[0]\n",
    "    breed = ls[1]\n",
    "    categoryMap[category] = breed\n",
    "\n",
    "categoryIndex = dict(zip(categoryMap.keys(),range(len(categoryMap))))\n",
    "nb_classes = len(categoryMap)"
   ]
  },
  {
   "cell_type": "code",
   "execution_count": 3,
   "metadata": {
    "collapsed": true
   },
   "outputs": [],
   "source": [
    "input_photos = []\n",
    "breedlist = []\n",
    "posfilename = \"positives_shuf.txt\"\n",
    "inputdirname = \"CroppedDogs/\"\n",
    "posfile = open(posfilename,'r')\n",
    "for line in posfile.readlines():\n",
    "    infile = line.strip()\n",
    "    ls0 = infile.split(\"/\")\n",
    "    ls1 = ls0[1].split(\"_\")\n",
    "    category = ls1[0]\n",
    "    img = cv2.resize(cv2.imread(infile), (299, 299), cv2.INTER_LINEAR)\n",
    "    input_photos.append(img)\n",
    "    breedlist.append(categoryIndex[category])"
   ]
  },
  {
   "cell_type": "code",
   "execution_count": 4,
   "metadata": {
    "collapsed": false
   },
   "outputs": [
    {
     "name": "stdout",
     "output_type": "stream",
     "text": [
      "22126 22126\n",
      "(22126, 299, 299, 3)\n",
      "(3, 299, 299)\n"
     ]
    }
   ],
   "source": [
    "print len(input_photos),len(breedlist)\n",
    "batch_size = 10\n",
    "nb_epoch = 5\n",
    "\n",
    "train = np.array(input_photos)\n",
    "labels = np.array(breedlist)\n",
    "\n",
    "del input_photos[:]\n",
    "\n",
    "print train.shape\n",
    "\n",
    "nToUse = len(train)\n",
    "testFraction = 1.0/6.0\n",
    "nTest = int(testFraction*nToUse)\n",
    "\n",
    "X_test = train[:nTest]\n",
    "y_test = labels[:nTest]\n",
    "\n",
    "data_augmentation = False\n",
    "\n",
    "# convert class vectors to binary class matrices\n",
    "Y_test = np_utils.to_categorical(y_test, nb_classes)\n",
    "\n",
    "# input image dimensions\n",
    "img_rows, img_cols = X_test.shape[1], X_test.shape[2]\n",
    "\n",
    "if K.image_dim_ordering() == 'th':\n",
    "    X_test = np.swapaxes(X_test,1,3)\n",
    "    X_test = np.swapaxes(X_test,2,3)\n",
    "    input_shape = (X_test.shape[1], img_rows, img_cols)\n",
    "else:\n",
    "\tinput_shape = (img_rows, img_cols, X_test.shape[3])\n",
    "\n",
    "print input_shape\n",
    "\n",
    "X_test = X_test.astype('float32')\n",
    "X_test /= 255"
   ]
  },
  {
   "cell_type": "code",
   "execution_count": 5,
   "metadata": {
    "collapsed": false
   },
   "outputs": [],
   "source": [
    "model = load_model(\"dog_cnn_inception.1.10.keras\")"
   ]
  },
  {
   "cell_type": "code",
   "execution_count": 6,
   "metadata": {
    "collapsed": false
   },
   "outputs": [],
   "source": [
    "#score = model.evaluate(X_test, Y_test, verbose=0)\n",
    "Y_pred = model.predict(X_test)"
   ]
  },
  {
   "cell_type": "code",
   "execution_count": 9,
   "metadata": {
    "collapsed": false
   },
   "outputs": [
    {
     "name": "stdout",
     "output_type": "stream",
     "text": [
      "(3687, 120)\n"
     ]
    }
   ],
   "source": [
    "N = 1\n",
    "total = 0\n",
    "correct = 0\n",
    "print Y_pred.shape\n",
    "testbreedlist = y_test.tolist()\n",
    "for i,breed in enumerate(testbreedlist):\n",
    "    result = Y_pred[i,:].tolist()\n",
    "    sorted_x = sorted(zip(range(len(result)),result), key=operator.itemgetter(1),reverse=True)\n",
    "    sorted_xN = sorted_x[:N]\n",
    "    total += 1\n",
    "    if breed in dict(sorted_xN).keys(): correct += 1"
   ]
  },
  {
   "cell_type": "code",
   "execution_count": 8,
   "metadata": {
    "collapsed": false
   },
   "outputs": [
    {
     "name": "stdout",
     "output_type": "stream",
     "text": [
      "5 3687 3330 0.903173311635\n"
     ]
    }
   ],
   "source": [
    "print N,total,correct,float(correct)/float(total)"
   ]
  },
  {
   "cell_type": "code",
   "execution_count": 10,
   "metadata": {
    "collapsed": false
   },
   "outputs": [
    {
     "name": "stdout",
     "output_type": "stream",
     "text": [
      "1 3687 2705 0.733658801193\n"
     ]
    }
   ],
   "source": [
    "print N,total,correct,float(correct)/float(total)"
   ]
  },
  {
   "cell_type": "code",
   "execution_count": null,
   "metadata": {
    "collapsed": true
   },
   "outputs": [],
   "source": []
  }
 ],
 "metadata": {
  "kernelspec": {
   "display_name": "Python 2",
   "language": "python",
   "name": "python2"
  },
  "language_info": {
   "codemirror_mode": {
    "name": "ipython",
    "version": 2
   },
   "file_extension": ".py",
   "mimetype": "text/x-python",
   "name": "python",
   "nbconvert_exporter": "python",
   "pygments_lexer": "ipython2",
   "version": "2.7.10"
  }
 },
 "nbformat": 4,
 "nbformat_minor": 2
}
