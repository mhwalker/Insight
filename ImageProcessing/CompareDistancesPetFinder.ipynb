{
 "cells": [
  {
   "cell_type": "code",
   "execution_count": 21,
   "metadata": {
    "collapsed": true
   },
   "outputs": [],
   "source": [
    "import pickle\n",
    "from sklearn.metrics.pairwise import cosine_similarity\n",
    "import distance_helpers\n",
    "import numpy as np\n",
    "import json\n",
    "import cv2\n",
    "import operator"
   ]
  },
  {
   "cell_type": "code",
   "execution_count": 22,
   "metadata": {
    "collapsed": true
   },
   "outputs": [],
   "source": [
    "inputfiles = ['petfinderPurebred_pca_11063_100.pickle','petfinderPurebred_dog_cnn_simple.pickle','petfinderPurebred_dog_cnn_inception.pickle']"
   ]
  },
  {
   "cell_type": "code",
   "execution_count": 23,
   "metadata": {
    "collapsed": false
   },
   "outputs": [],
   "source": [
    "photo_ids = []\n",
    "breedList = dict()\n",
    "photoId2Index = dict()\n",
    "with open(\"small_dog_data.json\") as data_file:    \n",
    "    dog_data = json.load(data_file)\n",
    "counter = 0\n",
    "for k,v in dog_data.iteritems():\n",
    "    nBreeds = float(len(v[\"breeds\"]))\n",
    "    if len(v[\"breeds\"]) > 1: continue\n",
    "    breed = v[\"breeds\"][0]\n",
    "    photos = v[\"photos\"]\n",
    "    for photo in photos:\n",
    "        imagename = \"cutPetFinder/\"+k+\"_\"+photo[\"id\"]+\".jpg\"\n",
    "        img = cv2.imread(imagename)\n",
    "        if img is None: continue\n",
    "        photo_ids.append(k)\n",
    "        photoId2Index[k] = counter\n",
    "        if not breedList.has_key(breed): breedList[breed] = []\n",
    "        breedList[breed].append(counter)\n",
    "        counter += 1\n",
    "        break"
   ]
  },
  {
   "cell_type": "code",
   "execution_count": 24,
   "metadata": {
    "collapsed": false
   },
   "outputs": [
    {
     "name": "stdout",
     "output_type": "stream",
     "text": [
      "1541 111\n"
     ]
    }
   ],
   "source": [
    "print len(photo_ids),len(breedList)"
   ]
  },
  {
   "cell_type": "code",
   "execution_count": 31,
   "metadata": {
    "collapsed": false
   },
   "outputs": [
    {
     "name": "stdout",
     "output_type": "stream",
     "text": [
      "petfinderPurebred_pca_11063_100.pickle (1541, 100) 0.0930056695018 0.18590056721\n",
      "petfinderPurebred_dog_cnn_simple.pickle (1541, 120) 0.00898506303884 4.69937e-08\n",
      "petfinderPurebred_dog_cnn_inception.pickle (1541, 120) 0.0479053595658 0.0148531\n"
     ]
    }
   ],
   "source": [
    "breedDistances = { key : [] for key in breedList.keys()}\n",
    "sumBreedDistances = [0 for i in range(len(inputfiles))]\n",
    "breedMedians = { key : [] for key in breedList.keys()}\n",
    "\n",
    "for i,inputfilename in enumerate(inputfiles):\n",
    "    with open(inputfilename, 'rb') as handle:\n",
    "        b = pickle.load(handle)\n",
    "        coefficients = np.array(b.values())\n",
    "        similarities = distance_helpers.getDistances(coefficients)\n",
    "        avgForAll = distance_helpers.getAvgDistance(similarities)\n",
    "        medForAll = np.median(similarities)\n",
    "        print inputfilename,coefficients.shape,avgForAll,medForAll\n",
    "        for k,v in breedList.iteritems():\n",
    "            #print k,len(v)\n",
    "            if len(v) < 20:\n",
    "                breedDistances[k].append(0)\n",
    "                continue\n",
    "            idx = np.array(v)\n",
    "            slimSimilarities = similarities[idx[:, None], idx]\n",
    "            breedAvg = distance_helpers.getAvgDistance(slimSimilarities)\n",
    "            breedMedian = np.median(slimSimilarities)\n",
    "            breedMedians[k].append(breedMedian)\n",
    "            breedDistances[k].append(breedAvg/avgForAll)\n",
    "            sumBreedDistances[i] += breedAvg/avgForAll"
   ]
  },
  {
   "cell_type": "code",
   "execution_count": 26,
   "metadata": {
    "collapsed": false
   },
   "outputs": [
    {
     "name": "stdout",
     "output_type": "stream",
     "text": [
      "[13.536538662564611, 13.402936305429302, 12.672095056421453]\n"
     ]
    }
   ],
   "source": [
    "print sumBreedDistances"
   ]
  },
  {
   "cell_type": "code",
   "execution_count": 32,
   "metadata": {
    "collapsed": false
   },
   "outputs": [
    {
     "name": "stdout",
     "output_type": "stream",
     "text": [
      "{u'Rottweiler': 0.017997444, u'German Shepherd Dog': 0.02131453, u'Chihuahua': 0.01768145, u'Shepherd': 0.018534452, u'Shih Tzu': 0.013821457, u'American Staffordshire Terrier': 0.016110372, u'Poodle': 0.00571323, u'Siberian Husky': 0.013458723, u'Boxer': 0.010805424, u'Pit Bull Terrier': 0.016720675, u'Australian Cattle Dog (Blue Heeler)': 0.014413328, u'Labrador Retriever': 0.016272394, u'Terrier': 0.017972868, u'Dachshund': 0.0081638182}\n"
     ]
    }
   ],
   "source": [
    "skimBreedDistances = dict()\n",
    "for k,l in breedMedians.iteritems():\n",
    "    if sum(l) == 0: continue\n",
    "    skimBreedDistances[k] = l[2]\n",
    "print skimBreedDistances"
   ]
  },
  {
   "cell_type": "code",
   "execution_count": 33,
   "metadata": {
    "collapsed": false
   },
   "outputs": [
    {
     "name": "stdout",
     "output_type": "stream",
     "text": [
      "[(u'Poodle', 0.00571323, 30), (u'Dachshund', 0.0081638182, 27), (u'Boxer', 0.010805424, 76), (u'Siberian Husky', 0.013458723, 29), (u'Shih Tzu', 0.013821457, 23), (u'Australian Cattle Dog (Blue Heeler)', 0.014413328, 25), (u'American Staffordshire Terrier', 0.016110372, 26), (u'Labrador Retriever', 0.016272394, 53), (u'Pit Bull Terrier', 0.016720675, 278), (u'Chihuahua', 0.01768145, 281), (u'Terrier', 0.017972868, 126), (u'Rottweiler', 0.017997444, 33), (u'Shepherd', 0.018534452, 32), (u'German Shepherd Dog', 0.02131453, 97)]\n"
     ]
    }
   ],
   "source": [
    "sortedDistances = sorted(skimBreedDistances.items(), key=operator.itemgetter(1))\n",
    "print [(k,v,len(breedList[k])) for k,v in sortedDistances]"
   ]
  },
  {
   "cell_type": "code",
   "execution_count": 29,
   "metadata": {
    "collapsed": false
   },
   "outputs": [
    {
     "name": "stdout",
     "output_type": "stream",
     "text": [
      "14\n"
     ]
    }
   ],
   "source": [
    "print len(sortedDistances)"
   ]
  },
  {
   "cell_type": "code",
   "execution_count": null,
   "metadata": {
    "collapsed": true
   },
   "outputs": [],
   "source": []
  }
 ],
 "metadata": {
  "kernelspec": {
   "display_name": "Python 2",
   "language": "python",
   "name": "python2"
  },
  "language_info": {
   "codemirror_mode": {
    "name": "ipython",
    "version": 2
   },
   "file_extension": ".py",
   "mimetype": "text/x-python",
   "name": "python",
   "nbconvert_exporter": "python",
   "pygments_lexer": "ipython2",
   "version": "2.7.10"
  }
 },
 "nbformat": 4,
 "nbformat_minor": 2
}
