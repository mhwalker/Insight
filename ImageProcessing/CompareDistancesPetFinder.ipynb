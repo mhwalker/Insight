{
 "cells": [
  {
   "cell_type": "code",
   "execution_count": 1,
   "metadata": {
    "collapsed": true
   },
   "outputs": [],
   "source": [
    "import pickle\n",
    "from sklearn.metrics.pairwise import cosine_similarity\n",
    "import distance_helpers\n",
    "import numpy as np\n",
    "import json\n",
    "import cv2"
   ]
  },
  {
   "cell_type": "code",
   "execution_count": 2,
   "metadata": {
    "collapsed": true
   },
   "outputs": [],
   "source": [
    "inputfiles = ['petfinder_pca_11063_100.pickle','petfinder_dog_cnn_simple.pickle']"
   ]
  },
  {
   "cell_type": "code",
   "execution_count": 3,
   "metadata": {
    "collapsed": false
   },
   "outputs": [],
   "source": [
    "photo_ids = []\n",
    "breedList = dict()\n",
    "photoId2Index = dict()\n",
    "with open(\"small_dog_data.json\") as data_file:    \n",
    "    dog_data = json.load(data_file)\n",
    "counter = 0\n",
    "for k,v in dog_data.iteritems():\n",
    "    nBreeds = float(len(v[\"breeds\"]))\n",
    "    if len(v[\"breeds\"]) > 1: continue\n",
    "    breed = v[\"breeds\"][0]\n",
    "    photos = v[\"photos\"]\n",
    "    for photo in photos:\n",
    "        imagename = \"cutPetFinder/\"+k+\"_\"+photo[\"id\"]+\".jpg\"\n",
    "        img = cv2.imread(imagename)\n",
    "        if img is None: continue\n",
    "        photo_ids.append(k)\n",
    "        photoId2Index[k] = counter\n",
    "        if not breedList.has_key(breed): breedList[breed] = []\n",
    "        breedList[breed].append(counter)\n",
    "        counter += 1\n",
    "        break"
   ]
  },
  {
   "cell_type": "code",
   "execution_count": 4,
   "metadata": {
    "collapsed": false
   },
   "outputs": [
    {
     "name": "stdout",
     "output_type": "stream",
     "text": [
      "1541 111\n"
     ]
    }
   ],
   "source": [
    "print len(photo_ids),len(breedList)"
   ]
  },
  {
   "cell_type": "code",
   "execution_count": 5,
   "metadata": {
    "collapsed": false
   },
   "outputs": [
    {
     "name": "stdout",
     "output_type": "stream",
     "text": [
      "petfinder_pca_11063_100.pickle (1541, 100) 0.0930056695018\n",
      "petfinder_dog_cnn_simple.pickle (1541, 120) 0.00898506303884\n"
     ]
    }
   ],
   "source": [
    "breedDistances = { key : [] for key in breedList.keys()}\n",
    "sumBreedDistances = [0 for i in range(len(inputfiles))]\n",
    "\n",
    "for i,inputfilename in enumerate(inputfiles):\n",
    "    with open(inputfilename, 'rb') as handle:\n",
    "        b = pickle.load(handle)\n",
    "        coefficients = np.array(b.values())\n",
    "        similarities = distance_helpers.getDistances(coefficients)\n",
    "        avgForAll = distance_helpers.getAvgDistance(similarities)\n",
    "        print inputfilename,coefficients.shape,avgForAll\n",
    "        for k,v in breedList.iteritems():\n",
    "            #print k,len(v)\n",
    "            if len(v) < 20:\n",
    "                breedDistances[k].append(0)\n",
    "                continue\n",
    "            idx = np.array(v)\n",
    "            slimSimilarities = similarities[idx[:, None], idx]\n",
    "            breedAvg = distance_helpers.getAvgDistance(slimSimilarities)\n",
    "            breedDistances[k].append(breedAvg/avgForAll)\n",
    "            sumBreedDistances[i] += breedAvg/avgForAll"
   ]
  },
  {
   "cell_type": "code",
   "execution_count": 6,
   "metadata": {
    "collapsed": false
   },
   "outputs": [
    {
     "name": "stdout",
     "output_type": "stream",
     "text": [
      "[13.536538662564611, 13.402936305429302]\n"
     ]
    }
   ],
   "source": [
    "print sumBreedDistances"
   ]
  },
  {
   "cell_type": "code",
   "execution_count": null,
   "metadata": {
    "collapsed": true
   },
   "outputs": [],
   "source": []
  }
 ],
 "metadata": {
  "kernelspec": {
   "display_name": "Python 2",
   "language": "python",
   "name": "python2"
  },
  "language_info": {
   "codemirror_mode": {
    "name": "ipython",
    "version": 2
   },
   "file_extension": ".py",
   "mimetype": "text/x-python",
   "name": "python",
   "nbconvert_exporter": "python",
   "pygments_lexer": "ipython2",
   "version": "2.7.10"
  }
 },
 "nbformat": 4,
 "nbformat_minor": 2
}
