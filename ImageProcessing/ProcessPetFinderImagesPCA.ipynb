{
 "cells": [
  {
   "cell_type": "code",
   "execution_count": 1,
   "metadata": {
    "collapsed": true
   },
   "outputs": [],
   "source": [
    "import csv\n",
    "import cv2\n",
    "import json\n",
    "from sklearn.externals import joblib\n",
    "import pickle"
   ]
  },
  {
   "cell_type": "code",
   "execution_count": 2,
   "metadata": {
    "collapsed": true
   },
   "outputs": [],
   "source": [
    "estimator = joblib.load('estimator_0_11063_100.pkl')"
   ]
  },
  {
   "cell_type": "code",
   "execution_count": 6,
   "metadata": {
    "collapsed": false
   },
   "outputs": [],
   "source": [
    "photo_ids = []\n",
    "#images = []\n",
    "results = []\n",
    "with open(\"small_dog_data.json\") as data_file:    \n",
    "    dog_data = json.load(data_file)\n",
    "for k,v in dog_data.iteritems():\n",
    "    nBreeds = float(len(v[\"breeds\"]))\n",
    "    if len(v[\"breeds\"]) > 1: continue\n",
    "    breed = v[\"breeds\"][0]\n",
    "    photos = v[\"photos\"]\n",
    "    for photo in photos:\n",
    "        imagename = \"cutPetFinder/\"+k+\"_\"+photo[\"id\"]+\".jpg\"\n",
    "        img = cv2.imread(imagename)\n",
    "        if img is None: continue\n",
    "        img = cv2.resize(img, (128, 128), cv2.INTER_LINEAR)\n",
    "        img = img.flatten()\n",
    "        img = img.reshape(1,-1)\n",
    "        photo_ids.append(k)\n",
    "        #images.append(img)\n",
    "        y = estimator.transform(img)\n",
    "        results.append(y.flatten())\n",
    "        break"
   ]
  },
  {
   "cell_type": "code",
   "execution_count": 7,
   "metadata": {
    "collapsed": false
   },
   "outputs": [
    {
     "name": "stdout",
     "output_type": "stream",
     "text": [
      "1541\n"
     ]
    }
   ],
   "source": [
    "print len(results)"
   ]
  },
  {
   "cell_type": "code",
   "execution_count": 8,
   "metadata": {
    "collapsed": true
   },
   "outputs": [],
   "source": [
    "output = dict(zip(photo_ids,results))"
   ]
  },
  {
   "cell_type": "code",
   "execution_count": 9,
   "metadata": {
    "collapsed": true
   },
   "outputs": [],
   "source": [
    "with open('petfinder_pca_11063_100.pickle', 'wb') as handle:\n",
    "    pickle.dump(output, handle, protocol=pickle.HIGHEST_PROTOCOL)"
   ]
  },
  {
   "cell_type": "code",
   "execution_count": null,
   "metadata": {
    "collapsed": true
   },
   "outputs": [],
   "source": []
  }
 ],
 "metadata": {
  "kernelspec": {
   "display_name": "Python 2",
   "language": "python",
   "name": "python2"
  },
  "language_info": {
   "codemirror_mode": {
    "name": "ipython",
    "version": 2
   },
   "file_extension": ".py",
   "mimetype": "text/x-python",
   "name": "python",
   "nbconvert_exporter": "python",
   "pygments_lexer": "ipython2",
   "version": "2.7.10"
  }
 },
 "nbformat": 4,
 "nbformat_minor": 2
}
