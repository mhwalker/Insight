{
 "cells": [
  {
   "cell_type": "code",
   "execution_count": 1,
   "metadata": {
    "collapsed": true
   },
   "outputs": [],
   "source": [
    "import numpy as np\n",
    "from scipy.spatial import KDTree\n",
    "import pickle"
   ]
  },
  {
   "cell_type": "code",
   "execution_count": 2,
   "metadata": {
    "collapsed": true
   },
   "outputs": [],
   "source": [
    "inputfiles = ['petfinderPurebred_pca_11063_100.pickle','petfinderPurebred_dog_cnn_simple.pickle']"
   ]
  },
  {
   "cell_type": "code",
   "execution_count": 15,
   "metadata": {
    "collapsed": false
   },
   "outputs": [
    {
     "name": "stdout",
     "output_type": "stream",
     "text": [
      "(1541, 100)\n",
      "(100,)\n",
      "(array([    0.        ,  2606.7141859 ,  2618.38209433]), array([   0, 1451,  903]))\n",
      "(1541, 120)\n",
      "(120,)\n",
      "(array([ 0.        ,  0.01576167,  0.03987562]), array([   0, 1447,   77]))\n"
     ]
    }
   ],
   "source": [
    "for i,inputfilename in enumerate(inputfiles):\n",
    "    with open(inputfilename, 'rb') as handle:\n",
    "        b = pickle.load(handle)\n",
    "    #outputfilename = inputfilename.replace(\".pickle\",\"_kdtree.pickle\")\n",
    "    #outputfilenamehashes = outputfilename.replace(\"kdtree\",\"hash\")\n",
    "    farray = np.array(b.values())\n",
    "    print farray.shape\n",
    "    tree = KDTree(farray)\n",
    "    row =  farray[0,:]\n",
    "    print row.shape\n",
    "    results = tree.query(row,3)\n",
    "    print results"
   ]
  },
  {
   "cell_type": "code",
   "execution_count": null,
   "metadata": {
    "collapsed": true
   },
   "outputs": [],
   "source": []
  }
 ],
 "metadata": {
  "kernelspec": {
   "display_name": "Python 2",
   "language": "python",
   "name": "python2"
  },
  "language_info": {
   "codemirror_mode": {
    "name": "ipython",
    "version": 2
   },
   "file_extension": ".py",
   "mimetype": "text/x-python",
   "name": "python",
   "nbconvert_exporter": "python",
   "pygments_lexer": "ipython2",
   "version": "2.7.10"
  }
 },
 "nbformat": 4,
 "nbformat_minor": 2
}
