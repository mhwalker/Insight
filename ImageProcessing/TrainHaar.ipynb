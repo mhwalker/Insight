{
 "cells": [
  {
   "cell_type": "markdown",
   "metadata": {},
   "source": [
    "Instructions for using OpenCV for training Haar cascades for object detection [here](http://docs.opencv.org/2.4/doc/user_guide/ug_traincascade.html)\n",
    "Also some helpful information [here](https://github.com/mrnugget/opencv-haar-classifier-training)\n",
    "\n",
    "Used the [MIT Places](http://places.csail.mit.edu/) dataset as the negative dataset"
   ]
  },
  {
   "cell_type": "code",
   "execution_count": null,
   "metadata": {
    "collapsed": true
   },
   "outputs": [],
   "source": []
  }
 ],
 "metadata": {
  "kernelspec": {
   "display_name": "Python 2",
   "language": "python",
   "name": "python2"
  },
  "language_info": {
   "codemirror_mode": {
    "name": "ipython",
    "version": 2
   },
   "file_extension": ".py",
   "mimetype": "text/x-python",
   "name": "python",
   "nbconvert_exporter": "python",
   "pygments_lexer": "ipython2",
   "version": "2.7.10"
  }
 },
 "nbformat": 4,
 "nbformat_minor": 2
}
