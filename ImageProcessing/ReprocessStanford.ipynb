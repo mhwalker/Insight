{
 "cells": [
  {
   "cell_type": "markdown",
   "metadata": {},
   "source": [
    "Clipping the Stanford dog photos using the bounding boxes to prepare for use in the dog detection training"
   ]
  },
  {
   "cell_type": "code",
   "execution_count": 29,
   "metadata": {
    "collapsed": true
   },
   "outputs": [],
   "source": [
    "import xml.etree.ElementTree\n",
    "import cv2\n",
    "import matplotlib.pyplot as plt\n",
    "plt.style.use('ggplot')\n",
    "%matplotlib inline"
   ]
  },
  {
   "cell_type": "code",
   "execution_count": 36,
   "metadata": {
    "collapsed": true
   },
   "outputs": [],
   "source": [
    "filelistname = \"dog_images.list\"\n",
    "filelist = open(filelistname,'r')"
   ]
  },
  {
   "cell_type": "code",
   "execution_count": 37,
   "metadata": {
    "collapsed": false
   },
   "outputs": [],
   "source": [
    "for line in filelist.readlines():\n",
    "    imagename = line.strip()\n",
    "    annotationname = imagename.replace(\"Images\",\"Annotation\").replace(\".jpg\",\"\").strip()\n",
    "    dogid = annotationname.split(\"/\")[2]\n",
    "    #print imagename\n",
    "    #print annotationname\n",
    "    img = cv2.imread(imagename)\n",
    "    e = xml.etree.ElementTree.parse(annotationname).getroot()\n",
    "    rois = []\n",
    "    for dog in e.findall('object'):\n",
    "        bndbox = dog.find('bndbox')\n",
    "        xmin = int(bndbox.find('xmin').text)\n",
    "        xmax = int(bndbox.find('xmax').text)\n",
    "        ymin = int(bndbox.find('ymin').text)\n",
    "        ymax = int(bndbox.find('ymax').text)\n",
    "        roi = img[ymin:ymax,xmin:xmax]\n",
    "        rois.append(roi)\n",
    "    #fig, axes = plt.subplots(1, len(rois)+1, sharey=True,figsize=(6,6))\n",
    "    #axes[0].imshow(cv2.cvtColor(img, cv2.COLOR_BGR2RGB))\n",
    "    for i,roi in enumerate(rois):\n",
    "        #axes[i+1].imshow(cv2.cvtColor(roi, cv2.COLOR_BGR2RGB))\n",
    "        cv2.imwrite(\"./CroppedDogs/\"+dogid+\"_\"+str(i)+\".jpg\",roi)"
   ]
  },
  {
   "cell_type": "markdown",
   "metadata": {},
   "source": [
    "Cuts 22127 dogs from 20580 images - initially planning to use 10% for the training"
   ]
  },
  {
   "cell_type": "code",
   "execution_count": 38,
   "metadata": {
    "collapsed": false
   },
   "outputs": [
    {
     "data": {
      "text/plain": [
       "'3.1.0'"
      ]
     },
     "execution_count": 38,
     "metadata": {},
     "output_type": "execute_result"
    }
   ],
   "source": [
    "cv2.__version__"
   ]
  },
  {
   "cell_type": "code",
   "execution_count": null,
   "metadata": {
    "collapsed": true
   },
   "outputs": [],
   "source": []
  }
 ],
 "metadata": {
  "kernelspec": {
   "display_name": "Python 2",
   "language": "python",
   "name": "python2"
  },
  "language_info": {
   "codemirror_mode": {
    "name": "ipython",
    "version": 2
   },
   "file_extension": ".py",
   "mimetype": "text/x-python",
   "name": "python",
   "nbconvert_exporter": "python",
   "pygments_lexer": "ipython2",
   "version": "2.7.10"
  }
 },
 "nbformat": 4,
 "nbformat_minor": 2
}
