{
 "cells": [
  {
   "cell_type": "code",
   "execution_count": 1,
   "metadata": {
    "collapsed": false
   },
   "outputs": [
    {
     "name": "stderr",
     "output_type": "stream",
     "text": [
      "Using Theano backend.\n",
      "Using gpu device 0: GeForce GT 750M (CNMeM is disabled, cuDNN 5103)\n",
      "/Library/Python/2.7/site-packages/theano/sandbox/cuda/__init__.py:600: UserWarning: Your cuDNN version is more recent than the one Theano officially supports. If you see any problems, try updating Theano or downgrading cuDNN to version 5.\n",
      "  warnings.warn(warn)\n"
     ]
    }
   ],
   "source": [
    "import numpy as np\n",
    "np.random.seed(2671)  # for reproducibility\n",
    "\n",
    "import copy\n",
    "import json\n",
    "import cv2\n",
    "from scipy.misc import imread\n",
    "\n",
    "from keras.datasets import mnist\n",
    "from keras.models import Sequential, load_model\n",
    "from keras.preprocessing.image import ImageDataGenerator\n",
    "from keras.layers import Dense, Dropout, Activation, Flatten\n",
    "from keras.layers import Convolution2D, MaxPooling2D, AveragePooling2D\n",
    "from keras.optimizers import SGD\n",
    "from keras.utils import np_utils\n",
    "from keras import backend as K\n",
    "from keras.utils.layer_utils import print_summary\n",
    "from sklearn.metrics import roc_curve, auc\n",
    "import matplotlib.pyplot as plt\n",
    "import sys\n"
   ]
  },
  {
   "cell_type": "code",
   "execution_count": 2,
   "metadata": {
    "collapsed": true
   },
   "outputs": [],
   "source": [
    "catmapfilename='breed_map.list'\n",
    "catmapfile = open(catmapfilename,'r')\n",
    "categoryMap = dict()\n",
    "for line in catmapfile.readlines():\n",
    "    ls = line.split()\n",
    "    category = ls[0]\n",
    "    breed = ls[1]\n",
    "    categoryMap[category] = breed\n",
    "\n",
    "categoryIndex = dict(zip(categoryMap.keys(),range(len(categoryMap))))\n",
    "nb_classes = len(categoryMap)"
   ]
  },
  {
   "cell_type": "code",
   "execution_count": 3,
   "metadata": {
    "collapsed": true
   },
   "outputs": [],
   "source": [
    "input_photos = []\n",
    "breedlist = []\n",
    "posfilename = \"positives_mod10.txt\"\n",
    "inputdirname = \"CroppedDogs/\"\n",
    "posfile = open(posfilename,'r')\n",
    "for line in posfile.readlines():\n",
    "    infile = line.strip()\n",
    "    ls0 = infile.split(\"/\")\n",
    "    ls1 = ls0[1].split(\"_\")\n",
    "    category = ls1[0]\n",
    "    img = cv2.resize(cv2.imread(infile), (299, 299), cv2.INTER_LINEAR)\n",
    "    input_photos.append(img)\n",
    "    breedlist.append(categoryIndex[category])"
   ]
  },
  {
   "cell_type": "code",
   "execution_count": 4,
   "metadata": {
    "collapsed": false
   },
   "outputs": [
    {
     "name": "stdout",
     "output_type": "stream",
     "text": [
      "2212 2212\n",
      "(2212, 299, 299, 3)\n",
      "(3, 299, 299)\n"
     ]
    }
   ],
   "source": [
    "print len(input_photos),len(breedlist)\n",
    "batch_size = 10\n",
    "nb_epoch = 5\n",
    "\n",
    "train = np.array(input_photos)\n",
    "labels = np.array(breedlist)\n",
    "\n",
    "print train.shape\n",
    "\n",
    "nToUse = len(train)\n",
    "testFraction = 1.0/3.0\n",
    "nTest = int(testFraction*nToUse)\n",
    "\n",
    "X_test = train[:nTest]\n",
    "y_test = labels[:nTest]\n",
    "\n",
    "data_augmentation = False\n",
    "\n",
    "# convert class vectors to binary class matrices\n",
    "Y_test = np_utils.to_categorical(y_test, nb_classes)\n",
    "\n",
    "# input image dimensions\n",
    "img_rows, img_cols = X_test.shape[1], X_test.shape[2]\n",
    "\n",
    "if K.image_dim_ordering() == 'th':\n",
    "    X_test = np.swapaxes(X_test,1,3)\n",
    "    X_test = np.swapaxes(X_test,2,3)\n",
    "    input_shape = (X_test.shape[1], img_rows, img_cols)\n",
    "else:\n",
    "\tinput_shape = (img_rows, img_cols, X_test.shape[3])\n",
    "\n",
    "print input_shape\n",
    "\n",
    "X_test = X_test.astype('float32')\n",
    "X_test /= 255"
   ]
  },
  {
   "cell_type": "code",
   "execution_count": 5,
   "metadata": {
    "collapsed": false
   },
   "outputs": [],
   "source": [
    "model = load_model(\"dog_cnn_simple.keras\")"
   ]
  },
  {
   "cell_type": "code",
   "execution_count": 6,
   "metadata": {
    "collapsed": false
   },
   "outputs": [],
   "source": [
    "#score = model.evaluate(X_test, Y_test, verbose=0)\n",
    "Y_pred = model.predict(X_test)"
   ]
  },
  {
   "cell_type": "code",
   "execution_count": null,
   "metadata": {
    "collapsed": true
   },
   "outputs": [],
   "source": [
    "from sklearn.metrics.pairwise import cosine_similarity\n",
    "similarities = cosine_similarity(Y_pred)\n",
    "testID = 1100\n",
    "similarity100 = similarities[testID,:]"
   ]
  },
  {
   "cell_type": "code",
   "execution_count": 16,
   "metadata": {
    "collapsed": false
   },
   "outputs": [
    {
     "name": "stdout",
     "output_type": "stream",
     "text": [
      "[(357, 1.0), (495, 1.0), (496, 1.0), (497, 1.0), (498, 1.0)]\n"
     ]
    }
   ],
   "source": [
    "import operator\n",
    "\n",
    "sorted_x = sorted(zip(range(len(similarity100)),similarity100), key=operator.itemgetter(1),reverse=True)\n",
    "print sorted_x[:5]\n",
    "fig = plt.figure(figsize=(8,6))\n",
    "from matplotlib import gridspec\n",
    "gs = gridspec.GridSpec(5,5)\n",
    "axtop = plt.subplot(gs[0:1,:])\n",
    "axtop.imshow(cv2.cvtColor(input_photos[testID], cv2.COLOR_BGR2RGB))\n",
    "axb1 = plt.subplot(gs[2:,0])\n",
    "axb1.imshow(cv2.cvtColor(input_photos[sorted_x[0][0]], cv2.COLOR_BGR2RGB))\n",
    "axb2 = plt.subplot(gs[2:,1])\n",
    "axb2.imshow(cv2.cvtColor(input_photos[sorted_x[1][0]], cv2.COLOR_BGR2RGB))\n",
    "axb3 = plt.subplot(gs[2:,2])\n",
    "axb3.imshow(cv2.cvtColor(input_photos[sorted_x[2][0]], cv2.COLOR_BGR2RGB))\n",
    "axb4 = plt.subplot(gs[2:,3])\n",
    "axb4.imshow(cv2.cvtColor(input_photos[sorted_x[3][0]], cv2.COLOR_BGR2RGB))\n",
    "axb5 = plt.subplot(gs[2:,4])\n",
    "axb5.imshow(cv2.cvtColor(input_photos[sorted_x[4][0]], cv2.COLOR_BGR2RGB))\n",
    "fig.savefig(\"testOutput_\"+str(testID)+\".jpg\")"
   ]
  },
  {
   "cell_type": "code",
   "execution_count": null,
   "metadata": {
    "collapsed": true
   },
   "outputs": [],
   "source": []
  }
 ],
 "metadata": {
  "kernelspec": {
   "display_name": "Python 2",
   "language": "python",
   "name": "python2"
  },
  "language_info": {
   "codemirror_mode": {
    "name": "ipython",
    "version": 2
   },
   "file_extension": ".py",
   "mimetype": "text/x-python",
   "name": "python",
   "nbconvert_exporter": "python",
   "pygments_lexer": "ipython2",
   "version": "2.7.10"
  }
 },
 "nbformat": 4,
 "nbformat_minor": 2
}
